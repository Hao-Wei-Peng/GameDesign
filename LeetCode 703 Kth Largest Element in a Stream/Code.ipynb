{
  "nbformat": 4,
  "nbformat_minor": 0,
  "metadata": {
    "colab": {
      "provenance": [],
      "collapsed_sections": []
    },
    "kernelspec": {
      "name": "python3",
      "display_name": "Python 3"
    },
    "language_info": {
      "name": "python"
    }
  },
  "cells": [
    {
      "cell_type": "code",
      "execution_count": 3,
      "metadata": {
        "id": "mMOA-ZhSJFOB"
      },
      "outputs": [],
      "source": [
        "class KthLargest:\n",
        "    def __init__(self, k: int, nums: List[int]):\n",
        "        self.KMax = k\n",
        "        self.Queue = []\n",
        "        for num in nums:\n",
        "            heapq.heappush(self.Queue, num)\n",
        "\n",
        "    def add(self, val: int) -> int:\n",
        "\n",
        "        heapq.heappush(self.Queue, val)\n",
        "\n",
        "        # maintain K largest elements\n",
        "        while len(self.Queue) > self.KMax:\n",
        "            heapq.heappop(self.Queue)\n",
        "        \n",
        "        return self.Queue[0]\n",
        "        \n",
        "# Your KthLargest object will be instantiated and called as such:\n",
        "# obj = KthLargest(k, nums)\n",
        "# param_1 = obj.add(val)"
      ]
    }
  ]
}