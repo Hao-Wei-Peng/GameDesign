{
  "nbformat": 4,
  "nbformat_minor": 0,
  "metadata": {
    "colab": {
      "provenance": [],
      "collapsed_sections": []
    },
    "kernelspec": {
      "name": "python3",
      "display_name": "Python 3"
    },
    "language_info": {
      "name": "python"
    }
  },
  "cells": [
    {
      "cell_type": "code",
      "execution_count": null,
      "metadata": {
        "id": "mMOA-ZhSJFOB"
      },
      "outputs": [],
      "source": [
        "class TimeMap:\n",
        "\n",
        "    def __init__(self):\n",
        "        self.store = {} # key = string, val = [list of [value, timestamp]]\n",
        "\n",
        "    def set(self, key: str, value: str, timestamp: int) -> None:\n",
        "\n",
        "        # Time Complexity will be O(1)\n",
        "        if key not in self.store:\n",
        "            self.store[key] = []\n",
        "        \n",
        "        self.store[key].append([value, timestamp])\n",
        "\n",
        "    def get(self, key: str, timestamp: int) -> str:\n",
        "\n",
        "        # Time Complexity will be O(logn)\n",
        "        # find the nearest timestamp (if key exist)\n",
        "        ans = \"\"\n",
        "        if key not in self.store:\n",
        "            return ans\n",
        "        \n",
        "        values = self.store[key]\n",
        "        L, R = 0, len(values) - 1\n",
        "\n",
        "        while L <= R:\n",
        "            mid = (L + R) // 2\n",
        "\n",
        "            if values[mid][1] <= timestamp:\n",
        "                ans = values[mid][0]\n",
        "                L = mid + 1\n",
        "            \n",
        "            else:\n",
        "                R = mid - 1\n",
        "        \n",
        "        return ans\n",
        "\n",
        "\n",
        "# Your TimeMap object will be instantiated and called as such:\n",
        "# obj = TimeMap()\n",
        "# obj.set(key,value,timestamp)\n",
        "# param_2 = obj.get(key,timestamp)"
      ]
    }
  ]
}