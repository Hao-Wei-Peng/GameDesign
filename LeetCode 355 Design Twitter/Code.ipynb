{
  "nbformat": 4,
  "nbformat_minor": 0,
  "metadata": {
    "colab": {
      "provenance": [],
      "collapsed_sections": []
    },
    "kernelspec": {
      "name": "python3",
      "display_name": "Python 3"
    },
    "language_info": {
      "name": "python"
    }
  },
  "cells": [
    {
      "cell_type": "code",
      "execution_count": null,
      "metadata": {
        "id": "mMOA-ZhSJFOB"
      },
      "outputs": [],
      "source": [
        "class Twitter:\n",
        "\n",
        "    def __init__(self):\n",
        "        self.count = 0\n",
        "        self.tweetMap = collections.defaultdict(list) # userId -> List of [count, tweetIds]\n",
        "        self.followMap = collections.defaultdict(set) # userId -> set of followeeId\n",
        "\n",
        "    def postTweet(self, userId: int, tweetId: int) -> None:\n",
        "        self.tweetMap[userId].append([self.count, tweetId])  \n",
        "        self.count -= 1      \n",
        "\n",
        "    def getNewsFeed(self, userId: int) -> List[int]:\n",
        "        ans = [] # ordered starting from the recent\n",
        "        MinHeap = []\n",
        "\n",
        "        self.followMap[userId].add(userId)\n",
        "\n",
        "        for followeeId in self.followMap[userId]:\n",
        "            if followeeId in self.tweetMap:\n",
        "                index = len(self.tweetMap[followeeId]) - 1\n",
        "                count, tweetId = self.tweetMap[followeeId][index] \n",
        "                MinHeap.append([count, tweetId, followeeId, index - 1])\n",
        "\n",
        "        heapq.heapify(MinHeap)\n",
        "\n",
        "        while MinHeap and len(ans) < 10:\n",
        "            count, tweetId, followeeId, index = heapq.heappop(MinHeap)\n",
        "            ans.append(tweetId)\n",
        "\n",
        "            if index >= 0:\n",
        "                # we need to check previous index of current followeedId\n",
        "                count, tweetId = self.tweetMap[followeeId][index]\n",
        "                heapq.heappush(MinHeap, [count, tweetId, followeeId, index - 1])\n",
        "\n",
        "        return ans\n",
        "\n",
        "    def follow(self, followerId: int, followeeId: int) -> None:\n",
        "        self.followMap[followerId].add(followeeId)        \n",
        "\n",
        "    def unfollow(self, followerId: int, followeeId: int) -> None:\n",
        "\n",
        "        # ensure current follower is in the userId hashset\n",
        "        if followeeId in self.followMap[followerId]:\n",
        "            self.followMap[followerId].remove(followeeId)\n",
        "\n",
        "\n",
        "# Your Twitter object will be instantiated and called as such:\n",
        "# obj = Twitter()\n",
        "# obj.postTweet(userId,tweetId)\n",
        "# param_2 = obj.getNewsFeed(userId)\n",
        "# obj.follow(followerId,followeeId)\n",
        "# obj.unfollow(followerId,followeeId)"
      ]
    }
  ]
}