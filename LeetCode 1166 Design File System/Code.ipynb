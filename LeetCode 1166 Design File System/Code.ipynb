{
  "nbformat": 4,
  "nbformat_minor": 0,
  "metadata": {
    "colab": {
      "provenance": [],
      "collapsed_sections": []
    },
    "kernelspec": {
      "name": "python3",
      "display_name": "Python 3"
    },
    "language_info": {
      "name": "python"
    }
  },
  "cells": [
    {
      "cell_type": "code",
      "execution_count": 7,
      "metadata": {
        "id": "mMOA-ZhSJFOB"
      },
      "outputs": [],
      "source": [
        "class TrieNode:\n",
        "  def __init__(self, key):\n",
        "    self.key = key\n",
        "    self.children = {}\n",
        "    self.value = None\n",
        "\n",
        "class FileSystem:\n",
        "    def __init__(self):\n",
        "      self.root = TrieNode(None)\n",
        "\n",
        "    def createPath(self, path: str, value: int) -> bool:\n",
        "      \n",
        "      # input =  \"/leet\", 1\n",
        "\n",
        "      cur = self.root\n",
        "      path = path.split(\"/\")[1 : ]\n",
        "\n",
        "      # split = [\"leet\"]\n",
        "\n",
        "      # base case\n",
        "      if not path:\n",
        "        return False\n",
        "      \n",
        "      for index, file in enumerate(path):\n",
        "        # path missing before the new path created\n",
        "        # [\"leet\", \"code\"], value = 1\n",
        "        # [\"May\", \"June\"], value = 1\n",
        "        if index != len(path) - 1 and file not in cur.children: \n",
        "          return False\n",
        "        \n",
        "        # exist path\n",
        "        # [\"leet\", \"code\"], value = 1\n",
        "        # [\"leet\", \"code\"], value = 2\n",
        "        if index == len(path) - 1 and file in cur.children:\n",
        "          return False\n",
        "        \n",
        "        # create path\n",
        "        # root -> TrieNode(leet, 1) -> ...\n",
        "        if index == len(path) - 1 and file not in cur.children:\n",
        "          cur.children[file] = TrieNode(file)\n",
        "          cur = cur.children[file]\n",
        "          cur.value = value\n",
        "        \n",
        "        else:\n",
        "          cur = cur.children[file]\n",
        "      \n",
        "      return True\n",
        "    \n",
        "\n",
        "    def get(self, path: str) -> int:\n",
        "\n",
        "      cur = self.root\n",
        "\n",
        "      path = path.split(\"/\")[1 : ]\n",
        "\n",
        "      for index, file in enumerate(path):\n",
        "        if file not in cur.children:\n",
        "          return -1\n",
        "        \n",
        "        cur = cur.children[file]\n",
        "      \n",
        "      return cur.value\n",
        "\n",
        "\n",
        "# Your FileSystem object will be instantiated and called as such:\n",
        "# obj = FileSystem()\n",
        "# param_1 = obj.createPath(path,value)\n",
        "# param_2 = obj.get(path)"
      ]
    },
    {
      "cell_type": "code",
      "source": [
        "obj = FileSystem()\n",
        "print(obj.createPath(\"/leet\", 1)) # return true\n",
        "print(obj.createPath(\"/leet/code\", 2)) # return true\n",
        "print(obj.get(\"/leet/code\")) # return 2\n",
        "print(obj.createPath(\"/c/d\", 1)) # return false because the parent path \"/c\" doesn't exist.\n",
        "print(obj.get(\"/c\")) # return -1 because this path doesn't exist."
      ],
      "metadata": {
        "colab": {
          "base_uri": "https://localhost:8080/"
        },
        "id": "mKZPpkteET92",
        "outputId": "7fce736b-35cf-4067-b159-654f491e6874"
      },
      "execution_count": 8,
      "outputs": [
        {
          "output_type": "stream",
          "name": "stdout",
          "text": [
            "True\n",
            "True\n",
            "2\n",
            "False\n",
            "-1\n"
          ]
        }
      ]
    }
  ]
}