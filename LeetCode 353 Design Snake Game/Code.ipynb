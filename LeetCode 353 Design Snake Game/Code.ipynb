{
  "nbformat": 4,
  "nbformat_minor": 0,
  "metadata": {
    "colab": {
      "provenance": [],
      "collapsed_sections": []
    },
    "kernelspec": {
      "name": "python3",
      "display_name": "Python 3"
    },
    "language_info": {
      "name": "python"
    }
  },
  "cells": [
    {
      "cell_type": "code",
      "execution_count": 4,
      "metadata": {
        "id": "mMOA-ZhSJFOB"
      },
      "outputs": [],
      "source": [
        "import collections\n",
        "\n",
        "class SnakeGame(object):\n",
        "    def __init__(self, width, height, food):\n",
        "      \"\"\"\n",
        "      Initialize your data structure here.\n",
        "      @param width - screen width\n",
        "      @param height - screen height\n",
        "      @param food - A list of food positions\n",
        "      E.g food = [[1,1], [1,0]] means the first food is positioned at [1,1], the second is at [1,0].\n",
        "      :type width: int\n",
        "      :type height: int\n",
        "      :type food: List[List[int]]\n",
        "      \"\"\"\n",
        "\n",
        "      self.width = width\n",
        "      self.height = height\n",
        "      self.food = food\n",
        "\n",
        "      # initialize queue (start position) and score\n",
        "      self.score = 0\n",
        "      self.Queue = collections.deque([(0, 0)])\n",
        "\n",
        "    def move(self, direction):\n",
        "      \"\"\"\n",
        "      Moves the snake.\n",
        "      @param direction - 'U' = Up, 'L' = Left, 'R' = Right, 'D' = Down\n",
        "      @return The game's score after the move. Return -1 if game over.\n",
        "      Game over when snake crosses the screen boundary or bites its body.\n",
        "      :type direction: str\n",
        "      :rtype: int\n",
        "      \"\"\"\n",
        "\n",
        "      HeadRow, HeadCol = self.Queue[-1]\n",
        "\n",
        "      if direction == \"U\":\n",
        "        HeadRow -= 1\n",
        "      \n",
        "      elif direction == \"L\":\n",
        "        HeadCol -= 1\n",
        "      \n",
        "      elif direction == \"R\":\n",
        "        HeadCol += 1\n",
        "      \n",
        "      elif direction == \"D\":\n",
        "        HeadRow += 1\n",
        "      \n",
        "      # check whether new Head is in the reasonable boundary\n",
        "      # game over\n",
        "      if not (0 <= HeadRow < self.height and 0 <= HeadCol < self.width):\n",
        "        return -1\n",
        "      \n",
        "      # check current position whether is a food position\n",
        "      if self.food and [HeadRow, HeadCol] == self.food[0]:\n",
        "        self.Queue.append((HeadRow, HeadCol))\n",
        "\n",
        "        # eliminate current food\n",
        "        self.food.pop(0)\n",
        "        # score plus 1\n",
        "        self.score += 1\n",
        "      \n",
        "      # possible route\n",
        "      else:\n",
        "        self.Queue.popleft()\n",
        "\n",
        "        # check whether it belongs to the part of the snake\n",
        "        if [HeadRow, HeadCol] in self.Queue:\n",
        "          return -1\n",
        "        \n",
        "        else:\n",
        "          self.Queue.append((HeadRow, HeadCol))\n",
        "      \n",
        "      return self.score\n",
        "\n",
        "\n",
        "# Your SnakeGame object will be instantiated and called as such:\n",
        "# obj = SnakeGame(width, height, food)\n",
        "# param_1 = obj.move(direction)"
      ]
    },
    {
      "cell_type": "code",
      "source": [
        "food = [[1,2],[0,1]]\n",
        "width = 3\n",
        "height = 2\n",
        "\n",
        "obj = SnakeGame(width, height, food)\n",
        "print(obj.move(\"R\")) # Returns 0\n",
        "print(obj.move(\"D\")) # Returns 0\n",
        "print(obj.move(\"R\")) # Returns 1 (Snake eats the first food and right after that, the second food appears at (0,1))\n",
        "print(obj.move(\"U\")) # Returns 1\n",
        "print(obj.move(\"L\")) # Returns 2 (Snake eats the second food)\n",
        "print(obj.move(\"U\")) # Returns -1 (Game over because snake collides with border)"
      ],
      "metadata": {
        "colab": {
          "base_uri": "https://localhost:8080/"
        },
        "id": "K2vkiFQs0ruO",
        "outputId": "bef5d071-5f61-4f70-b474-501c95f4b052"
      },
      "execution_count": 5,
      "outputs": [
        {
          "output_type": "stream",
          "name": "stdout",
          "text": [
            "0\n",
            "0\n",
            "1\n",
            "1\n",
            "2\n",
            "-1\n"
          ]
        }
      ]
    }
  ]
}